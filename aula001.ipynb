{
  "nbformat": 4,
  "nbformat_minor": 0,
  "metadata": {
    "colab": {
      "provenance": []
    },
    "kernelspec": {
      "name": "python3",
      "display_name": "Python 3"
    },
    "language_info": {
      "name": "python"
    }
  },
  "cells": [
    {
      "cell_type": "code",
      "execution_count": 214,
      "metadata": {
        "id": "ow910ATqdPJY"
      },
      "outputs": [],
      "source": [
        "import datetime   as dtm\n",
        "import statistics as est\n",
        "import matplotlib.pyplot   as plt"
      ]
    },
    {
      "cell_type": "code",
      "source": [
        "def remaining_passengers(bus_stops):\n",
        "\treturn sum(entraram - saíram for entraram, saíram in bus_stops)\n",
        ""
      ],
      "metadata": {
        "id": "Xi4N8BhK06sH"
      },
      "execution_count": 215,
      "outputs": []
    },
    {
      "cell_type": "code",
      "source": [
        "def interv( inicio = 10, final = 15):\n",
        "\tfor inicio in range( 1 , final+1 ):\n",
        "\t\tprint( inicio )"
      ],
      "metadata": {
        "id": "8WXyDS0mMlt9"
      },
      "execution_count": 216,
      "outputs": []
    },
    {
      "cell_type": "code",
      "source": [
        "def highAndLow(string):\n",
        "    numeros = list(map(int, string.split()))\n",
        "    maior = max(numeros)\n",
        "    menor = min(numeros)\n",
        "    return f\"{maior} {menor}\""
      ],
      "metadata": {
        "id": "xBk8Od0MJg5c"
      },
      "execution_count": 217,
      "outputs": []
    },
    {
      "cell_type": "code",
      "source": [
        "def potquadrado( k ):\n",
        "\treturn k  * k\n"
      ],
      "metadata": {
        "id": "gpYQ-9BIMUCp"
      },
      "execution_count": 218,
      "outputs": []
    },
    {
      "cell_type": "code",
      "source": [
        "def somandotres(a, b, c):\n",
        "\treturn a + b + c"
      ],
      "metadata": {
        "id": "93aQFvLXHk6W"
      },
      "execution_count": 219,
      "outputs": []
    },
    {
      "cell_type": "code",
      "source": [
        "def remaining_passengers(bus_stops):\n",
        "    return sum(entraram - saíram for entraram, saíram in bus_stops)"
      ],
      "metadata": {
        "id": "1LtvcJImIVnj"
      },
      "execution_count": 220,
      "outputs": []
    },
    {
      "cell_type": "code",
      "source": [
        "texto   \t\t\t\t\t= 'Hello'\n",
        "palavra \t\t\t\t\t= 'world'\n",
        "sim     \t\t\t\t\t= True\n",
        "nao     \t\t\t\t\t= False\n",
        "\n",
        "titulo2 = \"Grafico de Barras 1\"\n",
        "titulo3 = \"Grafico de linhas\"\n",
        "titulo4 = \"Grafico de Barras 2\"\n",
        "titulo5 = \"Grafico dispersao\"    # scatterplot\n",
        "a = [1, 3, 5, 7 , 9 , 11]\n",
        "b = [10, 11, 12, 13, 14, 15]\n",
        "c = [2,   4,  6,  8, 10, 12]\n",
        "d = [20, 21, 22, 23, 24, 25]\n",
        "x = [10, 12, 13, 13, 17, 19, 20 ]\n",
        "y = [ 5, 9, 25, 26, 28, 29, 30  ]\n",
        "meutexto  = \"Esther Melo\"\n",
        "meunumero = \"12\"\n",
        "dicionario1 = {1: 'Python', 2: 'Java', 3: 'C++', 4: 'Kotlin'}\n",
        "tuplaa = (1, 2, 3, 4)  # Tupla simples\n",
        "listab = [\"cao\", \"ovelha\", \"vaca\"]  # Lista para nomes dos animais\n",
        "tuplac = (20, 10, 5)  # tupla para valores unitários\n",
        "tuplad = (13, 18, 9)  # tupla para quantidade\n",
        "\n",
        "\n",
        "vlra = 100\n",
        "vlrb = 200\n",
        "vlrc = 300\n",
        "vlrd = 400\n",
        "vlre = 10.5\n",
        "vlrf = 23.6\n",
        "vlrg = 14.8\n",
        "vlrh = - 96.7\n",
        "vlri = -10\n",
        "vlrj = -8.5\n",
        "vlrk = -9.6\n",
        "vlrjk = [ vlrj, vlrk ]\n",
        "vlrik = [ vlri, vlrj, vlrk ]\n"
      ],
      "metadata": {
        "id": "Xljeqwg432Fb"
      },
      "execution_count": 221,
      "outputs": []
    },
    {
      "cell_type": "code",
      "source": [
        "\n",
        "print(remaining_passengers([[10, 0], [3, 5], [15, 8]]))  # Saída: 15\n",
        "print(remaining_passengers([[3, 0], [9, 1], [4, 10], [12, 2], [8, 1], [7, 10]]))  # Saída: 19\n",
        "print(remaining_passengers([[3, 0], [9, 1], [4, 8], [12, 2], [6, 1], [7, 8]]))  # Saída: 21\n",
        "print(remaining_passengers([[0, 0]]))  # Saída: 0\n",
        "\n"
      ],
      "metadata": {
        "colab": {
          "base_uri": "https://localhost:8080/"
        },
        "id": "Yk0fe8Bi0zUL",
        "outputId": "0ba90ec1-db76-4487-d339-a3139631e0d5"
      },
      "execution_count": 222,
      "outputs": [
        {
          "output_type": "stream",
          "name": "stdout",
          "text": [
            "15\n",
            "19\n",
            "21\n",
            "0\n"
          ]
        },
        {
          "output_type": "stream",
          "name": "stderr",
          "text": [
            "<ipython-input-220-ba70a5bb553a>:2: DeprecationWarning: Calling np.sum(generator) is deprecated, and in the future will give a different result. Use np.sum(np.fromiter(generator)) or the python sum builtin instead.\n",
            "  return sum(entraram - saíram for entraram, saíram in bus_stops)\n"
          ]
        }
      ]
    },
    {
      "cell_type": "markdown",
      "source": [],
      "metadata": {
        "id": "_9PfQTvF0uCA"
      }
    },
    {
      "cell_type": "code",
      "source": [
        "plt.title(titulo3  )\n",
        "plt.xlabel(\"Valores do aluguel\")\n",
        "plt.ylabel(\"Qt de apartamentos\")\n",
        "plt.plot( x , y )\n",
        "plt.show()\n"
      ],
      "metadata": {
        "colab": {
          "base_uri": "https://localhost:8080/",
          "height": 472
        },
        "id": "a_w2ONFU0vdT",
        "outputId": "9c03216e-2c79-4448-c00c-98c7035033e3"
      },
      "execution_count": 223,
      "outputs": [
        {
          "output_type": "display_data",
          "data": {
            "text/plain": [
              "<Figure size 640x480 with 1 Axes>"
            ],
            "image/png": "[encoded data removed]"
          },
          "metadata": {}
        }
      ]
    },
    {
      "cell_type": "code",
      "source": [
        "plt.title(titulo2)\n",
        "plt.xlabel(\"Eixo A\")\n",
        "plt.ylabel(\"Eixo B\")\n",
        "plt.bar(a , b)\n",
        "plt.show()\n"
      ],
      "metadata": {
        "colab": {
          "base_uri": "https://localhost:8080/",
          "height": 472
        },
        "id": "pbyuJoPs3_IF",
        "outputId": "09d76bf2-1889-4800-8df2-7dd048da452b"
      },
      "execution_count": 224,
      "outputs": [
        {
          "output_type": "display_data",
          "data": {
            "text/plain": [
              "<Figure size 640x480 with 1 Axes>"
            ],
            "image/png": "[encoded data removed]"
          },
          "metadata": {}
        }
      ]
    },
    {
      "cell_type": "code",
      "source": [
        "plt.bar(a , b, label=\"Grafico AB\")\n",
        "plt.bar(c , d, label=\"Grafico CD\")\n",
        "plt.show()\n"
      ],
      "metadata": {
        "colab": {
          "base_uri": "https://localhost:8080/",
          "height": 430
        },
        "id": "bS36bsLm3_K9",
        "outputId": "b4d1de2c-9cfa-48a9-e5fa-bc7e001070a5"
      },
      "execution_count": 225,
      "outputs": [
        {
          "output_type": "display_data",
          "data": {
            "text/plain": [
              "<Figure size 640x480 with 1 Axes>"
            ],
            "image/png": "[encoded data removed]"
          },
          "metadata": {}
        }
      ]
    },
    {
      "cell_type": "code",
      "source": [
        "plt.scatter(a , b,\n",
        "            label=\"AB\",\n",
        "            color=\"red\")\n",
        "plt.scatter(c , d,\n",
        "            label=\"CD\",\n",
        "            color=\"#000000\",\n",
        "            marker=\"x\",\n",
        "            s= 150)\n",
        "plt.legend()\n",
        "plt.show()\n",
        "plt.savefig(\"fig001.png\", dpi=300)\n"
      ],
      "metadata": {
        "colab": {
          "base_uri": "https://localhost:8080/",
          "height": 448
        },
        "id": "WUYBG7Xl3_Wi",
        "outputId": "103978f4-4451-49ac-9140-0594356851b3"
      },
      "execution_count": 226,
      "outputs": [
        {
          "output_type": "display_data",
          "data": {
            "text/plain": [
              "<Figure size 640x480 with 1 Axes>"
            ],
            "image/png": "[encoded data removed]"
          },
          "metadata": {}
        },
        {
          "output_type": "display_data",
          "data": {
            "text/plain": [
              "<Figure size 640x480 with 0 Axes>"
            ]
          },
          "metadata": {}
        }
      ]
    },
    {
      "cell_type": "code",
      "source": [],
      "metadata": {
        "id": "W1Ac640M3_dT"
      },
      "execution_count": 183,
      "outputs": []
    },
    {
      "cell_type": "code",
      "source": [
        "plt.title(titulo4)\n",
        "plt.xlabel(\"Eixo C\")\n",
        "plt.ylabel(\"Eixo D\")\n",
        "plt.bar(c , d)\n",
        "plt.show()\n"
      ],
      "metadata": {
        "colab": {
          "base_uri": "https://localhost:8080/",
          "height": 472
        },
        "id": "0unKHfLI3S15",
        "outputId": "27f38682-834c-439f-9da8-23d7ffc98843"
      },
      "execution_count": 227,
      "outputs": [
        {
          "output_type": "display_data",
          "data": {
            "text/plain": [
              "<Figure size 640x480 with 1 Axes>"
            ],
            "image/png": "[encoded data removed]"
          },
          "metadata": {}
        }
      ]
    },
    {
      "cell_type": "code",
      "source": [],
      "metadata": {
        "id": "N1dDBOjb3Z6m"
      },
      "execution_count": 227,
      "outputs": []
    },
    {
      "cell_type": "code",
      "source": [
        "dt1 = open(\"populacao_brasileira.csv\").readlines()\n",
        "xd = [] # populacao\n",
        "yd = [] # ano\n",
        "for contagem in range( len( dt1 ) ):\n",
        "\tif contagem !=0:\n",
        "\t\tlinha = dt1[contagem].split(\";\")\n",
        "\t\txd.append( int( linha[0] ) )  # coluna 1\n",
        "\t\tyd.append( int( linha[1] ) )  # Coluna 2\n",
        "\n"
      ],
      "metadata": {
        "id": "KgtuEsqj0lAN"
      },
      "execution_count": 228,
      "outputs": []
    },
    {
      "cell_type": "code",
      "source": [
        "plt.plot(xd, yd)\n",
        "plt.show()\n"
      ],
      "metadata": {
        "colab": {
          "base_uri": "https://localhost:8080/",
          "height": 445
        },
        "id": "qdJTEdHWI2Z3",
        "outputId": "fd7fce74-8629-48b1-c9a5-c1957f97054f"
      },
      "execution_count": 229,
      "outputs": [
        {
          "output_type": "display_data",
          "data": {
            "text/plain": [
              "<Figure size 640x480 with 1 Axes>"
            ],
            "image/png": "[encoded data removed]"
          },
          "metadata": {}
        }
      ]
    },
    {
      "cell_type": "code",
      "source": [
        "with open(\"populacao_brasileira.csv\", \"r\") as arquivo:\n",
        "    for linha in arquivo:\n",
        "        colunas = linha.strip().split(\";\")\n",
        "        if len(colunas) == 2:\n",
        "            print({colunas[0]} , {colunas[1]})\n"
      ],
      "metadata": {
        "colab": {
          "base_uri": "https://localhost:8080/"
        },
        "id": "wZK3iHJR8K_x",
        "outputId": "278a772a-0205-4864-c094-f5700da50a85"
      },
      "execution_count": 230,
      "outputs": [
        {
          "output_type": "stream",
          "name": "stdout",
          "text": [
            "{'ano'} {'population'}\n",
            "{'1980'} {'119011052'}\n",
            "{'1981'} {'121154159'}\n",
            "{'1982'} {'123774229'}\n",
            "{'1983'} {'126403352'}\n",
            "{'1984'} {'129025577'}\n",
            "{'1985'} {'131639272'}\n",
            "{'1986'} {'134228492'}\n",
            "{'1987'} {'136780739'}\n",
            "{'1988'} {'139280140'}\n",
            "{'1989'} {'141714953'}\n",
            "{'1990'} {'144090756'}\n",
            "{'1991'} {'146825475'}\n",
            "{'1992'} {'148684120'}\n",
            "{'1993'} {'151556521'}\n",
            "{'1994'} {'153726463'}\n",
            "{'1995'} {'155822296'}\n",
            "{'1996'} {'157070163'}\n",
            "{'1997'} {'159636297'}\n",
            "{'1998'} {'161790182'}\n",
            "{'1999'} {'163947436'}\n",
            "{'2000'} {'169799170'}\n",
            "{'2001'} {'172385776'}\n",
            "{'2002'} {'174632932'}\n",
            "{'2003'} {'176876251'}\n",
            "{'2004'} {'179108134'}\n",
            "{'2005'} {'184184074'}\n",
            "{'2006'} {'186770613'}\n",
            "{'2007'} {'189335191'}\n",
            "{'2008'} {'189612814'}\n",
            "{'2009'} {'191481045'}\n",
            "{'2010'} {'190755799'}\n",
            "{'2011'} {'192379287'}\n",
            "{'2012'} {'193976530'}\n",
            "{'2013'} {'201062789'}\n",
            "{'2014'} {'202799518'}\n",
            "{'2015'} {'204482459'}\n",
            "{'2016'} {'206114067'}\n"
          ]
        }
      ]
    },
    {
      "cell_type": "code",
      "source": [
        "print(remaining_passengers([[10, 0], [3, 5], [15, 8]]))  # Saída: 15\n",
        "print(remaining_passengers([[3, 0], [9, 1], [4, 10], [12, 2], [8, 1], [7, 10]]))  # Saída: 19\n",
        "print(remaining_passengers([[3, 0], [9, 1], [4, 8], [12, 2], [6, 1], [7, 8]]))  # Saída: 21\n",
        "print(remaining_passengers([[0, 0]]))  # Saída: 0\n"
      ],
      "metadata": {
        "colab": {
          "base_uri": "https://localhost:8080/"
        },
        "id": "uclolyfT1DBt",
        "outputId": "4a4f00d6-cc58-481b-a89f-82964642e7ec"
      },
      "execution_count": 231,
      "outputs": [
        {
          "output_type": "stream",
          "name": "stdout",
          "text": [
            "15\n",
            "19\n",
            "21\n",
            "0\n"
          ]
        },
        {
          "output_type": "stream",
          "name": "stderr",
          "text": [
            "<ipython-input-220-ba70a5bb553a>:2: DeprecationWarning: Calling np.sum(generator) is deprecated, and in the future will give a different result. Use np.sum(np.fromiter(generator)) or the python sum builtin instead.\n",
            "  return sum(entraram - saíram for entraram, saíram in bus_stops)\n"
          ]
        }
      ]
    },
    {
      "cell_type": "code",
      "source": [],
      "metadata": {
        "id": "TPgxKuDsKcxq"
      },
      "execution_count": 188,
      "outputs": []
    },
    {
      "cell_type": "code",
      "source": [
        "print(texto, \" \",palavra)\n"
      ],
      "metadata": {
        "colab": {
          "base_uri": "https://localhost:8080/"
        },
        "id": "yIBjmoBvKKa7",
        "outputId": "0dec2bcd-4e90-455d-b1f0-c8354fc8a888"
      },
      "execution_count": 232,
      "outputs": [
        {
          "output_type": "stream",
          "name": "stdout",
          "text": [
            "Hello   world\n"
          ]
        }
      ]
    },
    {
      "cell_type": "code",
      "source": [
        "print(highAndLow(\"1 9 3 4 -5\"))\n",
        "\n",
        "# https://peps.python.org/pep-0498/\n",
        "# https://docs.python.org/3/tutorial/classes.html#a-first-look-at-classes\n",
        "\n",
        "print(\"Dados pessoais...\")\n",
        "idade_marido \t\t\t\t\t= input(\"Idade do marido? \")\n",
        "idade_marido \t\t\t\t\t= int( idade_marido )\n",
        "\n",
        "idade_esposa \t\t\t\t\t= input(\"Idade da esposa? \")\n",
        "idade_esposa \t\t\t\t\t= int( idade_esposa )\n",
        "\n",
        "idade_soma_casal \t\t\t= idade_marido + idade_esposa\n",
        "idades = [idade_marido, idade_esposa]\n",
        "\n",
        "idade_media_casal \t\t= est.mean( idades )\n",
        "idade_mediana_casal   = est.median( idades )\n",
        "\n",
        "\n"
      ],
      "metadata": {
        "colab": {
          "base_uri": "https://localhost:8080/"
        },
        "id": "4eJ8fs2i1DRh",
        "outputId": "58e9d1f6-71a5-44a8-a46b-630c70a501b9"
      },
      "execution_count": 233,
      "outputs": [
        {
          "name": "stdout",
          "output_type": "stream",
          "text": [
            "9 -5\n",
            "Dados pessoais...\n",
            "Idade do marido? 50\n",
            "Idade da esposa? 46\n"
          ]
        }
      ]
    },
    {
      "cell_type": "code",
      "source": [
        "\n",
        "print(\"Idade somada do casal = \", idades              )\n",
        "print(\"Idade media do casal = \" , idade_media_casal   )\n",
        "print(\"Idade mediana do casal =\", idade_mediana_casal )"
      ],
      "metadata": {
        "colab": {
          "base_uri": "https://localhost:8080/"
        },
        "id": "2exOOBSVKv1J",
        "outputId": "f590296c-30a1-48f4-ec6f-dfe0206f8423"
      },
      "execution_count": 234,
      "outputs": [
        {
          "output_type": "stream",
          "name": "stdout",
          "text": [
            "Idade somada do casal =  [50, 46]\n",
            "Idade media do casal =  48\n",
            "Idade mediana do casal = 48.0\n"
          ]
        }
      ]
    },
    {
      "cell_type": "code",
      "source": [
        "# Idade maxima 60 anos\n",
        "print(\"Idade Marido = \", idade_marido)\n",
        "if idade_marido >=60:\n",
        "\tprint(\"Aposentar\")\n",
        "elif idade_marido>50 and idade_marido <56:\n",
        "\tprint(\"Entrar no projeto senior\")\n",
        "elif idade_marido >=56 and idade_marido <59:\n",
        "\tprint(\"Entrar no projeto de Acompanhamento\")\n",
        "else:\n",
        "\tprint(\"Idade produtiva maxima\")\n"
      ],
      "metadata": {
        "colab": {
          "base_uri": "https://localhost:8080/"
        },
        "id": "BLX31ztr1MhS",
        "outputId": "01433e1b-89f2-47b3-fb18-2a67e5f928e5"
      },
      "execution_count": 235,
      "outputs": [
        {
          "output_type": "stream",
          "name": "stdout",
          "text": [
            "Idade Marido =  50\n",
            "Idade produtiva maxima\n"
          ]
        }
      ]
    },
    {
      "cell_type": "code",
      "source": [
        "cont = 1\n",
        "while cont <=20:\n",
        "\tprint(cont)\n",
        "\tcont += 1\n",
        ""
      ],
      "metadata": {
        "colab": {
          "base_uri": "https://localhost:8080/"
        },
        "id": "ZIfNAHwe1Mit",
        "outputId": "52bbbce7-e2c4-4b9a-cca7-c46b09262670"
      },
      "execution_count": 237,
      "outputs": [
        {
          "output_type": "stream",
          "name": "stdout",
          "text": [
            "1\n",
            "2\n",
            "3\n",
            "4\n",
            "5\n",
            "6\n",
            "7\n",
            "8\n",
            "9\n",
            "10\n",
            "11\n",
            "12\n",
            "13\n",
            "14\n",
            "15\n",
            "16\n",
            "17\n",
            "18\n",
            "19\n",
            "20\n"
          ]
        }
      ]
    },
    {
      "cell_type": "code",
      "source": [
        "''' quebra no cont 26 '''\n",
        "for cont in range(20 , 41, 2):\n",
        "\tif cont== 26:\n",
        "\t\tbreak\n",
        "\tprint(cont)"
      ],
      "metadata": {
        "colab": {
          "base_uri": "https://localhost:8080/"
        },
        "id": "s7qHFsKZLO7n",
        "outputId": "74b138f8-15bc-4faf-ced9-3ebc7a606c75"
      },
      "execution_count": 238,
      "outputs": [
        {
          "output_type": "stream",
          "name": "stdout",
          "text": [
            "20\n",
            "22\n",
            "24\n"
          ]
        }
      ]
    },
    {
      "cell_type": "code",
      "source": [
        "''' pula no cont 26 e segue '''\n",
        "for cont in range(20 , 31, 2):\n",
        "\tif cont== 26:\n",
        "\t\tcontinue\n",
        "\tprint(cont)"
      ],
      "metadata": {
        "colab": {
          "base_uri": "https://localhost:8080/"
        },
        "id": "HcaXo2-zLPM1",
        "outputId": "66755663-07b6-448c-c93b-91ac09b106be"
      },
      "execution_count": 239,
      "outputs": [
        {
          "output_type": "stream",
          "name": "stdout",
          "text": [
            "20\n",
            "22\n",
            "24\n",
            "28\n",
            "30\n"
          ]
        }
      ]
    },
    {
      "cell_type": "code",
      "source": [
        "''' listas '''\n",
        "listaa = [1 , 2 , 3 , 4 , 5]\n",
        "listab = [1, \"ola\", 3]\n",
        "listac = [1, [\"a\", \"b\", \"c\"], 6, \"ola\"]\n",
        "listad = list( range(1 , 10) )\n",
        "\n",
        "print(\"lista a \", listaa )\n",
        "print(\"lista b \", listab )\n",
        "print(\"lista c \", listac )\n",
        "print(\"lista d \", listad )\n",
        "\n",
        "print( len( listad) )"
      ],
      "metadata": {
        "colab": {
          "base_uri": "https://localhost:8080/"
        },
        "id": "sFoUVRcY1MmP",
        "outputId": "3d89486c-d8b7-4de0-9cb2-230563744630"
      },
      "execution_count": 240,
      "outputs": [
        {
          "output_type": "stream",
          "name": "stdout",
          "text": [
            "lista a  [1, 2, 3, 4, 5]\n",
            "lista b  [1, 'ola', 3]\n",
            "lista c  [1, ['a', 'b', 'c'], 6, 'ola']\n",
            "lista d  [1, 2, 3, 4, 5, 6, 7, 8, 9]\n",
            "9\n"
          ]
        }
      ]
    },
    {
      "cell_type": "code",
      "source": [
        "''' funcao basica '''\n",
        "def prt():\n",
        "\tprint(\"lista a \", listaa )\n",
        "\tprint(\"lista b \", listab )\n",
        "\tprint(\"lista c \", listac )\n",
        "\tprint(\"lista d \", listad )\n",
        "\tprint( len( listad) )\n",
        "\n",
        "prt()\n"
      ],
      "metadata": {
        "colab": {
          "base_uri": "https://localhost:8080/"
        },
        "id": "2kFI-DuB1Mnq",
        "outputId": "8f2d7a1b-f4fa-4743-db08-8529fcd0410e"
      },
      "execution_count": 241,
      "outputs": [
        {
          "output_type": "stream",
          "name": "stdout",
          "text": [
            "lista a  [1, 2, 3, 4, 5]\n",
            "lista b  [1, 'ola', 3]\n",
            "lista c  [1, ['a', 'b', 'c'], 6, 'ola']\n",
            "lista d  [1, 2, 3, 4, 5, 6, 7, 8, 9]\n",
            "9\n"
          ]
        }
      ]
    },
    {
      "cell_type": "code",
      "source": [
        "y = potquadrado( idade_marido )\n",
        "print(\"Idade do marido ao quadrado = \", y )"
      ],
      "metadata": {
        "colab": {
          "base_uri": "https://localhost:8080/"
        },
        "id": "Xlalv1SHMMTF",
        "outputId": "1a760820-6a6d-438f-ac44-8f2fb0dd5ac6"
      },
      "execution_count": 242,
      "outputs": [
        {
          "output_type": "stream",
          "name": "stdout",
          "text": [
            "Idade do marido ao quadrado =  2500\n"
          ]
        }
      ]
    },
    {
      "cell_type": "code",
      "source": [
        "''' FUNCAO COM PARAMETROS '''\n",
        "k = interv( 5 , 8 )\n",
        "print(k)\n"
      ],
      "metadata": {
        "colab": {
          "base_uri": "https://localhost:8080/"
        },
        "id": "ZZZY1YBi1MrJ",
        "outputId": "10fb9bb5-5525-4bc9-9203-1d3f53b8673e"
      },
      "execution_count": 244,
      "outputs": [
        {
          "output_type": "stream",
          "name": "stdout",
          "text": [
            "1\n",
            "2\n",
            "3\n",
            "4\n",
            "5\n",
            "6\n",
            "7\n",
            "8\n",
            "None\n"
          ]
        }
      ]
    },
    {
      "cell_type": "code",
      "source": [
        "\n",
        "''' FUNCAO COM VALORES PADROES '''\n",
        "interv()\n"
      ],
      "metadata": {
        "colab": {
          "base_uri": "https://localhost:8080/"
        },
        "id": "vgyP61cNR4UX",
        "outputId": "34d84a57-661a-4e27-bb6e-da18a3dc3aad"
      },
      "execution_count": 245,
      "outputs": [
        {
          "output_type": "stream",
          "name": "stdout",
          "text": [
            "1\n",
            "2\n",
            "3\n",
            "4\n",
            "5\n",
            "6\n",
            "7\n",
            "8\n",
            "9\n",
            "10\n",
            "11\n",
            "12\n",
            "13\n",
            "14\n",
            "15\n"
          ]
        }
      ]
    },
    {
      "cell_type": "code",
      "source": [
        "''' FUNCOES INTERNAS\n",
        "abs\n",
        "max\n",
        "min\n",
        "round\n",
        "sum\n",
        "'''\n",
        "\n",
        "maior_vlr_ik = max( vlrik )\n",
        "menor_vlr_ik = min( vlrik )\n",
        "nao_negat_h  = abs( vlrh )\n",
        "redondo_g    = round( vlrg, )\n",
        "print(\" Vetor vlrik                \" , vlrik       )\n",
        "print(\" Maior valor do vetor vlrik \", maior_vlr_ik )\n",
        "print(\" Menor valor do vetor vlrik \", menor_vlr_ik )\n",
        "print(\" Valor nao negativo de h    \", nao_negat_h  )\n",
        "print(\" Valor redondo de g         \", redondo_g    )\n"
      ],
      "metadata": {
        "colab": {
          "base_uri": "https://localhost:8080/"
        },
        "id": "OGHrBC4l1MtP",
        "outputId": "61cf72ae-c183-4893-9c2a-2c33743719f0"
      },
      "execution_count": 246,
      "outputs": [
        {
          "output_type": "stream",
          "name": "stdout",
          "text": [
            " Vetor vlrik                 [-10, -8.5, -9.6]\n",
            " Maior valor do vetor vlrik  -8.5\n",
            " Menor valor do vetor vlrik  -10\n",
            " Valor nao negativo de h     96.7\n",
            " Valor redondo de g          15\n"
          ]
        }
      ]
    },
    {
      "cell_type": "code",
      "source": [
        "\n",
        "print( 2 + 5 * 8 )\n",
        "pt = 5**4\n",
        "print( pt )\n",
        "dv = 435%7   # resto da divisao\n",
        "print( dv )\n",
        "di = 435//7  # divisao inteira\n",
        "print( di )"
      ],
      "metadata": {
        "colab": {
          "base_uri": "https://localhost:8080/"
        },
        "id": "XYdY8ML_PyJO",
        "outputId": "4584b544-f507-46c6-b319-f5c706792910"
      },
      "execution_count": 247,
      "outputs": [
        {
          "output_type": "stream",
          "name": "stdout",
          "text": [
            "42\n",
            "625\n",
            "1\n",
            "62\n"
          ]
        }
      ]
    },
    {
      "cell_type": "code",
      "source": [
        "''' FUNCAO USANDO NUMPY '''\n",
        "from numpy import *\n",
        "z = random.random(( 3 , 3 ))\n",
        "print( type( z ) )\n",
        "print( z )\n"
      ],
      "metadata": {
        "colab": {
          "base_uri": "https://localhost:8080/"
        },
        "id": "RPgOa1jTPr8D",
        "outputId": "f41d3bf5-1370-4037-a678-fcc5672925ea"
      },
      "execution_count": 248,
      "outputs": [
        {
          "output_type": "stream",
          "name": "stdout",
          "text": [
            "<class 'numpy.ndarray'>\n",
            "[[0.15670438 0.16413315 0.08998769]\n",
            " [0.67755311 0.47036596 0.42177261]\n",
            " [0.85074666 0.86085107 0.73488664]]\n"
          ]
        }
      ]
    },
    {
      "cell_type": "code",
      "source": [
        "print(\"*********** EXIBE 2 CASAS DECIMAIS\")\n",
        "valor = 123.45678\n",
        "print(f\"{valor:.2f}\")  # Exibe 123.46\n",
        "\n",
        "print(\"*********** EXIBE NOTACAO CIENTIFICA\")\n",
        "valor = 123456789\n",
        "print(f\"{valor:.2e}\")  # Exibe 1.23e+08\n",
        "\n",
        "print(\"*********** EXIBE PORCENTAGEM\")\n",
        "taxa = 0.25\n",
        "print(f\"{taxa:.2%}\")  # Exibe 25.00%\n",
        "\n",
        "print(\"*********** CRIA ZEROS A DIREITA\")\n",
        "numero = 5\n",
        "print(f\"{numero:05d}\")  # Exibe 00005\n",
        "\n",
        "print(\"*********** ALINHA A ESQUERDA\")\n",
        "nome = \"Ana\"\n",
        "print(f\"{nome:<10}\")  # Exibe \"Ana       \"\n",
        "\n",
        "print(\"*********** ALINHA A DIREITA\")\n",
        "nome = \"Ana\"\n",
        "print(f\"{nome:>10}\")  # Exibe \"       Ana\"\n",
        "\n",
        "print(\"*********** ALINHA AO CENTRO\")\n",
        "nome = \"Ana\"\n",
        "print(f\"{nome:^10}\")  # Exibe \"   Ana    \"\n",
        "\n",
        "print(\"*********** PREENCHE COM OUTRO CARACTER\")\n",
        "numero = 7\n",
        "print(f\"{numero:*^10}\")  # Exibe \"**7*******\"\n",
        "\n",
        "print(\"*********** CONVERTE PARA CAIXA ALTA\")\n",
        "texto = \"olá\"\n",
        "print(f\"{texto.upper()}\")  # Exibe \"OLÁ\"\n",
        "\n",
        "print(\"*********** CONVERTE PARA CAIXA BAIXA\")\n",
        "texto = \"OLÁ\"\n",
        "print(f\"{texto.lower()}\")  # Exibe \"olá\"\n",
        "\n",
        "print(\"*********** CONVERTE PARA CAPITALZAR TEXTO\")\n",
        "texto = \"olá\"\n",
        "print(f\"{texto.capitalize()}\")  # Exibe \"Olá\"\n",
        "\n",
        "print(\"*********** CONVERTE PARA FORMATO DE DATA E HORA\")\n",
        "from datetime import datetime\n",
        "hoje = datetime.now()\n",
        "print(f\"Hoje é {hoje:%d/%m/%Y}\")  # Exibe algo como \"16/12/2024\"\n",
        "\n",
        "print(\"*********** CONVERTE PARA Expressões Dentro das Chaves\")\n",
        "a = 5\n",
        "b = 10\n",
        "print(f\"A soma de {a} e {b} é {a + b}.\")  # Exibe \"A soma de 5 e 10 é 15.\"\n",
        "\n",
        "print(\"*********** CONVERTE VARIAS CENTRALIZACOES E FORMATO DECIMAL\")\n",
        "nome = \"João\"\n",
        "idade = 30\n",
        "altura = 1.75\n",
        "print(f\"{nome:>10} | {idade:<5} | {altura:^7.2f}\")  # Exibe \"     João | 30   |  1.75  \"\n",
        "\n",
        "\n",
        "print(meutexto              )\n",
        "print(meunumero             )\n",
        "print(meutexto.upper()      )\n",
        "print(meutexto.lower()      )\n",
        "print(meutexto.split()      ) # separa \"Esther\" e \"Melo\"\n",
        "print(meutexto.isdecimal()  )\n",
        "print(meunumero.isdecimal() ) # se é da base 10\n",
        "print(meutexto[0 : 11 : 2]  ) # a partir da posição 0 até a 11 a cada 2 caracteres\n",
        "print(meutexto[0 : 11 : 1]  ) # a partir da posição 0 até a 11 a cada 1 caracter\n",
        "print(meutexto[3 : 11 : 1]  ) # a partir da posição 3 até a 11 a cada 1 caracter\n",
        "print(meutexto[-1 : -8 : -1]) # a partir da posição -1 (ultima) até a -8 a cada 1 caracter (inverter)\n",
        "print(meutexto[-1 :: -1]    ) # a partir da ultima posição (inverter)\n",
        "print(meutexto[-1 :: -2]    ) # a partir da ultima posição (inverter) a cada 2 caracteres\n"
      ],
      "metadata": {
        "colab": {
          "base_uri": "https://localhost:8080/"
        },
        "id": "WWyGxAjV1Mv3",
        "outputId": "10c3cbee-9e5f-42e2-c461-cbd8f21cab73"
      },
      "execution_count": 249,
      "outputs": [
        {
          "output_type": "stream",
          "name": "stdout",
          "text": [
            "*********** EXIBE 2 CASAS DECIMAIS\n",
            "123.46\n",
            "*********** EXIBE NOTACAO CIENTIFICA\n",
            "1.23e+08\n",
            "*********** EXIBE PORCENTAGEM\n",
            "25.00%\n",
            "*********** CRIA ZEROS A DIREITA\n",
            "00005\n",
            "*********** ALINHA A ESQUERDA\n",
            "Ana       \n",
            "*********** ALINHA A DIREITA\n",
            "       Ana\n",
            "*********** ALINHA AO CENTRO\n",
            "   Ana    \n",
            "*********** PREENCHE COM OUTRO CARACTER\n",
            "****7*****\n",
            "*********** CONVERTE PARA CAIXA ALTA\n",
            "OLÁ\n",
            "*********** CONVERTE PARA CAIXA BAIXA\n",
            "olá\n",
            "*********** CONVERTE PARA CAPITALZAR TEXTO\n",
            "Olá\n",
            "*********** CONVERTE PARA FORMATO DE DATA E HORA\n",
            "Hoje é 17/12/2024\n",
            "*********** CONVERTE PARA Expressões Dentro das Chaves\n",
            "A soma de 5 e 10 é 15.\n",
            "*********** CONVERTE VARIAS CENTRALIZACOES E FORMATO DECIMAL\n",
            "      João | 30    |  1.75  \n",
            "Esther Melo\n",
            "12\n",
            "ESTHER MELO\n",
            "esther melo\n",
            "['Esther', 'Melo']\n",
            "False\n",
            "True\n",
            "Ete eo\n",
            "Esther Melo\n",
            "her Melo\n",
            "oleM re\n",
            "oleM rehtsE\n",
            "oe etE\n"
          ]
        }
      ]
    },
    {
      "cell_type": "code",
      "source": [
        "print(\"*********** Testa expressões (boolean)\")\n",
        "ta = 10  > 7\n",
        "tb = 10  < 7\n",
        "tc = 2   < 3\n",
        "td = 99 == 99\n",
        "te = 99 != 99\n",
        "print(\"Resultados: \",ta, tb, tc, td, td, te)\n"
      ],
      "metadata": {
        "colab": {
          "base_uri": "https://localhost:8080/"
        },
        "id": "FJ-1sHCRQRoR",
        "outputId": "1afe75c7-89f5-4f6d-8850-046afdc888a2"
      },
      "execution_count": 250,
      "outputs": [
        {
          "output_type": "stream",
          "name": "stdout",
          "text": [
            "*********** Testa expressões (boolean)\n",
            "Resultados:  True False True True True False\n"
          ]
        }
      ]
    },
    {
      "cell_type": "code",
      "source": [
        "\n",
        "print(\"*********** CONDICIONAIS\" )\n",
        "idade_filho = int(input(\"Informe a idade filho(a): \") )\n",
        "condicao = True\n",
        "if (idade_filho > 18) :\n",
        "\tprint(f\"Verdadeiro. Sou maior de 18. Tenho {idade_filho} anos.\")\n",
        "elif (idade_filho == 18):\n",
        "\tprint(f\"A idade é de {idade_filho} anos exatos\")\n",
        "else:\n",
        "\tprint(\"Falso. Nao sou maior de 18 anos.\")\n"
      ],
      "metadata": {
        "colab": {
          "base_uri": "https://localhost:8080/"
        },
        "id": "WQMNtT9C1Myu",
        "outputId": "e43ed4f3-3f0d-45fa-9bae-aba8dd657f7f"
      },
      "execution_count": 251,
      "outputs": [
        {
          "output_type": "stream",
          "name": "stdout",
          "text": [
            "*********** CONDICIONAIS\n",
            "Informe a idade filho(a): 12\n",
            "Falso. Nao sou maior de 18 anos.\n"
          ]
        }
      ]
    },
    {
      "cell_type": "code",
      "source": [
        "for vlrtst in range(1, 20, 2):\n",
        "\tprint(vlrtst, \" tem o valor quadrado como \", {vlrtst * vlrtst})\n",
        "\n",
        "ativo = True\n",
        "while(ativo):\n",
        "\ttabuada = int(input(\" Informe um numero: \") )\n",
        "\tif( tabuada < 1 ):\n",
        "\t\tativo = False\n",
        "\telse:\n",
        "\t\tfor vlrtb in range(1 , 10 , 1):\n",
        "\t\t\tprint(f\" Tabuada de {tabuada} X {vlrtb} = { tabuada * vlrtb } \")\n",
        "\n",
        "print(\"Fim da tabuada\")\n"
      ],
      "metadata": {
        "colab": {
          "base_uri": "https://localhost:8080/"
        },
        "id": "7DTGBVUe1Dcx",
        "outputId": "bee751a0-915c-4416-857a-ca26d95d8512"
      },
      "execution_count": 252,
      "outputs": [
        {
          "output_type": "stream",
          "name": "stdout",
          "text": [
            "1  tem o valor quadrado como  {1}\n",
            "3  tem o valor quadrado como  {9}\n",
            "5  tem o valor quadrado como  {25}\n",
            "7  tem o valor quadrado como  {49}\n",
            "9  tem o valor quadrado como  {81}\n",
            "11  tem o valor quadrado como  {121}\n",
            "13  tem o valor quadrado como  {169}\n",
            "15  tem o valor quadrado como  {225}\n",
            "17  tem o valor quadrado como  {289}\n",
            "19  tem o valor quadrado como  {361}\n",
            " Informe um numero: 4\n",
            " Tabuada de 4 X 1 = 4 \n",
            " Tabuada de 4 X 2 = 8 \n",
            " Tabuada de 4 X 3 = 12 \n",
            " Tabuada de 4 X 4 = 16 \n",
            " Tabuada de 4 X 5 = 20 \n",
            " Tabuada de 4 X 6 = 24 \n",
            " Tabuada de 4 X 7 = 28 \n",
            " Tabuada de 4 X 8 = 32 \n",
            " Tabuada de 4 X 9 = 36 \n",
            " Informe um numero: 0\n",
            "Fim da tabuada\n"
          ]
        }
      ]
    },
    {
      "cell_type": "code",
      "source": [
        "# Valor pares e impares\n",
        "for vlrqualquer in range(1, 12, 1):\n",
        "\tif(vlrqualquer%2==0):\n",
        "\t\tprint(f\"O numero {vlrqualquer} e par.\")\n",
        "\telse:\n",
        "\t\tprint(f\"O numero {vlrqualquer} e impar.\")\n",
        "\n",
        "\n"
      ],
      "metadata": {
        "colab": {
          "base_uri": "https://localhost:8080/"
        },
        "id": "gAxnJ-k416EN",
        "outputId": "e6c2c0f0-e339-4ae9-800c-8d0c2544b6c7"
      },
      "execution_count": 253,
      "outputs": [
        {
          "output_type": "stream",
          "name": "stdout",
          "text": [
            "O numero 1 e impar.\n",
            "O numero 2 e par.\n",
            "O numero 3 e impar.\n",
            "O numero 4 e par.\n",
            "O numero 5 e impar.\n",
            "O numero 6 e par.\n",
            "O numero 7 e impar.\n",
            "O numero 8 e par.\n",
            "O numero 9 e impar.\n",
            "O numero 10 e par.\n",
            "O numero 11 e impar.\n"
          ]
        }
      ]
    },
    {
      "cell_type": "code",
      "source": [
        "k = somandotres( 10, 30, 5) # retorna 45\n",
        "print(k)\n"
      ],
      "metadata": {
        "colab": {
          "base_uri": "https://localhost:8080/"
        },
        "id": "Jyh5tSxZ16Fz",
        "outputId": "bc047730-d662-4ed2-d69d-dd7a22c0b31c"
      },
      "execution_count": 254,
      "outputs": [
        {
          "output_type": "stream",
          "name": "stdout",
          "text": [
            "45\n"
          ]
        }
      ]
    },
    {
      "cell_type": "code",
      "source": [
        "\n",
        "\n",
        "\n"
      ],
      "metadata": {
        "id": "TCOIam8N16JQ"
      },
      "execution_count": 254,
      "outputs": []
    },
    {
      "cell_type": "code",
      "source": [
        "\n",
        "vlra = float(input(\" Informe um valor A: \") )\n",
        "vlrb = float(input(\" Informe um valor B: \") )\n",
        "vlrc = float(input(\" Informe um valor C: \") )\n",
        "vlrd = somandotres( vlra, vlrb, vlrc )\n",
        "print( vlrd )"
      ],
      "metadata": {
        "colab": {
          "base_uri": "https://localhost:8080/"
        },
        "id": "nYf7l3aZ16Ki",
        "outputId": "db60e784-f9b3-4f19-b321-27d694a2c79d"
      },
      "execution_count": 255,
      "outputs": [
        {
          "output_type": "stream",
          "name": "stdout",
          "text": [
            " Informe um valor A: 15\n",
            " Informe um valor B: 52\n",
            " Informe um valor C: 68\n",
            "135.0\n"
          ]
        }
      ]
    },
    {
      "cell_type": "code",
      "source": [
        "vendaa = tuplac[0] * tuplad[0]\n",
        "vendab = tuplac[1] * tuplad[1]\n",
        "vendac = tuplac[2] * tuplad[2]\n",
        "\n",
        "vendattl = somandotres(vendaa, vendab, vendac)\n",
        "\n",
        "print(f\" Venda de {listab[0]} foi de R$ {vendaa}.\")\n",
        "print(f\" Venda de {listab[1]} foi de R$ {vendab}.\")\n",
        "print(f\" Venda de {listab[2]} foi de R$ {vendac}.\")\n",
        "print(f\"A soma das vendas dos animais = R${vendattl}.\")\n"
      ],
      "metadata": {
        "colab": {
          "base_uri": "https://localhost:8080/"
        },
        "id": "OXAY48zS_MXB",
        "outputId": "64727b7d-4c29-4290-daeb-712d2e014c4d"
      },
      "execution_count": 256,
      "outputs": [
        {
          "output_type": "stream",
          "name": "stdout",
          "text": [
            " Venda de 1 foi de R$ 260.\n",
            " Venda de ola foi de R$ 180.\n",
            " Venda de 3 foi de R$ 45.\n",
            "A soma das vendas dos animais = R$485.\n"
          ]
        }
      ]
    },
    {
      "cell_type": "code",
      "source": [
        "print(tuplac[0])"
      ],
      "metadata": {
        "colab": {
          "base_uri": "https://localhost:8080/"
        },
        "id": "YQkAfv2K_MYu",
        "outputId": "34753b9a-842f-4aa8-a900-7a6eb6183164"
      },
      "execution_count": 257,
      "outputs": [
        {
          "output_type": "stream",
          "name": "stdout",
          "text": [
            "20\n"
          ]
        }
      ]
    },
    {
      "cell_type": "code",
      "source": [
        "print(dicionario1[1])        # Saída: Python\n",
        "print(dicionario1.get(2))    # Saída: Java\n"
      ],
      "metadata": {
        "colab": {
          "base_uri": "https://localhost:8080/"
        },
        "id": "igcsRTrs_McN",
        "outputId": "35c5a85e-bd7d-4c34-fa0d-dda11dbcc810"
      },
      "execution_count": 258,
      "outputs": [
        {
          "output_type": "stream",
          "name": "stdout",
          "text": [
            "Python\n",
            "Java\n"
          ]
        }
      ]
    },
    {
      "cell_type": "code",
      "source": [],
      "metadata": {
        "id": "FiM894an_Md3"
      },
      "execution_count": 212,
      "outputs": []
    },
    {
      "cell_type": "code",
      "source": [],
      "metadata": {
        "id": "f92TKmUx_Mh8"
      },
      "execution_count": 212,
      "outputs": []
    },
    {
      "cell_type": "code",
      "source": [],
      "metadata": {
        "id": "gHq6msYJ16N8"
      },
      "execution_count": 212,
      "outputs": []
    },
    {
      "cell_type": "code",
      "source": [],
      "metadata": {
        "id": "yjLKJMbi16PO"
      },
      "execution_count": 212,
      "outputs": []
    },
    {
      "cell_type": "code",
      "source": [],
      "metadata": {
        "id": "PNeYT4AZ16S3"
      },
      "execution_count": 212,
      "outputs": []
    },
    {
      "cell_type": "code",
      "source": [],
      "metadata": {
        "id": "rO5bO7ik16Ul"
      },
      "execution_count": 212,
      "outputs": []
    },
    {
      "cell_type": "code",
      "source": [],
      "metadata": {
        "id": "nrbKIKx116YS"
      },
      "execution_count": 212,
      "outputs": []
    },
    {
      "cell_type": "code",
      "source": [],
      "metadata": {
        "id": "jUnUTyqi1Dfo"
      },
      "execution_count": 212,
      "outputs": []
    }
  ]
}